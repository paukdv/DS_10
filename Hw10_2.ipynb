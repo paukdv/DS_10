{
  "cells": [
    {
      "cell_type": "code",
      "execution_count": null,
      "id": "42a2f001-e910-451d-a82c-0a043900007a",
      "metadata": {
        "id": "42a2f001-e910-451d-a82c-0a043900007a",
        "outputId": "478b01c5-dc54-4fc9-bb59-c5624a1815f8"
      },
      "outputs": [
        {
          "name": "stdout",
          "output_type": "stream",
          "text": [
            "WARNING:tensorflow:From C:\\Users\\d.paukov\\AppData\\Local\\anaconda3\\envs\\keras_tf\\lib\\site-packages\\keras\\src\\losses.py:2976: The name tf.losses.sparse_softmax_cross_entropy is deprecated. Please use tf.compat.v1.losses.sparse_softmax_cross_entropy instead.\n",
            "\n"
          ]
        }
      ],
      "source": [
        "import numpy as np\n",
        "from tensorflow import keras\n",
        "\n",
        "fashion_mnist = keras.datasets.fashion_mnist\n",
        "(train_full_X, train_full_y), (test_X, test_y) = fashion_mnist.load_data()"
      ]
    },
    {
      "cell_type": "code",
      "execution_count": null,
      "id": "7b5dc194-455c-40c8-80ee-f60a825b8bf6",
      "metadata": {
        "id": "7b5dc194-455c-40c8-80ee-f60a825b8bf6"
      },
      "outputs": [],
      "source": [
        "train_full_X = train_full_X.reshape(train_full_X.shape[0], 28, 28, 1)\n",
        "test_X = test_X.reshape(test_X.shape[0], 28, 28, 1)\n",
        "\n",
        "# Convert the images into 3 channels\n",
        "train_full_X = np.repeat(train_full_X, 3, axis=3)\n",
        "test_X = np.repeat(test_X, 3, axis=3)"
      ]
    },
    {
      "cell_type": "code",
      "execution_count": null,
      "id": "e270b847-3978-47f7-8659-ed825912855b",
      "metadata": {
        "id": "e270b847-3978-47f7-8659-ed825912855b",
        "outputId": "1dbe50e3-3fa4-4668-f92f-e1256237cdc1"
      },
      "outputs": [
        {
          "name": "stdout",
          "output_type": "stream",
          "text": [
            "Train full X shape: (60000, 28, 28, 3)\n",
            "Test X shape: (10000, 28, 28, 3)\n"
          ]
        }
      ],
      "source": [
        "print(\"Train full X shape:\", train_full_X.shape)\n",
        "print(\"Test X shape:\", test_X.shape)"
      ]
    },
    {
      "cell_type": "code",
      "execution_count": null,
      "id": "61fe261e-159e-4001-9755-0c28fff5518f",
      "metadata": {
        "id": "61fe261e-159e-4001-9755-0c28fff5518f",
        "outputId": "c93f1ecd-2197-4e15-ef46-a0c989b76f8f"
      },
      "outputs": [
        {
          "name": "stdout",
          "output_type": "stream",
          "text": [
            "WARNING:tensorflow:From C:\\Users\\d.paukov\\AppData\\Local\\anaconda3\\envs\\keras_tf\\lib\\site-packages\\keras\\src\\backend.py:1398: The name tf.executing_eagerly_outside_functions is deprecated. Please use tf.compat.v1.executing_eagerly_outside_functions instead.\n",
            "\n",
            "WARNING:tensorflow:From C:\\Users\\d.paukov\\AppData\\Local\\anaconda3\\envs\\keras_tf\\lib\\site-packages\\keras\\src\\layers\\pooling\\max_pooling2d.py:161: The name tf.nn.max_pool is deprecated. Please use tf.nn.max_pool2d instead.\n",
            "\n",
            "Model: \"sequential\"\n",
            "_________________________________________________________________\n",
            " Layer (type)                Output Shape              Param #   \n",
            "=================================================================\n",
            " resizing (Resizing)         (None, 224, 224, 3)       0         \n",
            "                                                                 \n",
            " vgg16 (Functional)          (None, 7, 7, 512)         14714688  \n",
            "                                                                 \n",
            "=================================================================\n",
            "Total params: 14714688 (56.13 MB)\n",
            "Trainable params: 0 (0.00 Byte)\n",
            "Non-trainable params: 14714688 (56.13 MB)\n",
            "_________________________________________________________________\n"
          ]
        }
      ],
      "source": [
        "from tensorflow.keras.applications import VGG16\n",
        "from tensorflow.keras.models import Sequential\n",
        "from tensorflow.keras.layers import InputLayer, Resizing\n",
        "\n",
        "# Визначення моделі VGG16 з виключенням верхніх шарів\n",
        "vgg = VGG16(include_top=False, weights='imagenet', input_shape=(224, 224, 3))\n",
        "\n",
        "# Заморожування шарів VGG16 для запобігання їх оновленню під час тренування\n",
        "vgg.trainable = False\n",
        "\n",
        "# Створення нової моделі з використанням VGG16 як бази\n",
        "base_model = Sequential([\n",
        "    InputLayer(input_shape=(28, 28, 3)),\n",
        "    Resizing(224, 224, interpolation='bilinear'),  # Зміна розміру зображень до 224x224\n",
        "    vgg\n",
        "])\n",
        "\n",
        "# Виведення підсумку моделі\n",
        "base_model.summary()"
      ]
    },
    {
      "cell_type": "code",
      "execution_count": null,
      "id": "88182c86-0e9b-4545-a8e0-2ac2a2df43b8",
      "metadata": {
        "id": "88182c86-0e9b-4545-a8e0-2ac2a2df43b8"
      },
      "outputs": [],
      "source": [
        "from tensorflow.keras.applications.vgg16 import preprocess_input\n",
        "\n",
        "# Попередня обробка даних перед екстракцією ознак\n",
        "train_full_X_processed = preprocess_input(train_full_X)\n",
        "test_X_processed = preprocess_input(test_X)\n",
        "\n",
        "# Екстракція ознак\n",
        "train_features = base_model.predict(train_full_X_processed, batch_size=32, verbose=1)\n",
        "test_features = base_model.predict(test_X_processed, batch_size=32, verbose=1)\n",
        "\n",
        "# Перевірка розміру екстрактованих ознак\n",
        "print(\"Розмір екстрактованих ознак для тренувального набору:\", train_features.shape)\n",
        "print(\"Розмір екстрактованих ознак для тестового набору:\", test_features.shape)"
      ]
    },
    {
      "cell_type": "code",
      "execution_count": null,
      "id": "ce9d1d7f-a8f7-4c2b-b089-c15fbd67c63c",
      "metadata": {
        "id": "ce9d1d7f-a8f7-4c2b-b089-c15fbd67c63c"
      },
      "outputs": [],
      "source": [
        "import numpy as np\n",
        "\n",
        "# Збереження ознак тренувального набору\n",
        "#np.save('train_features.npy', train_features)\n",
        "\n",
        "# Збереження ознак тестового набору\n",
        "#np.save('test_features.npy', test_features)\n",
        "\n",
        "\n",
        "# Завантаження ознак тренувального набору\n",
        "train_features = np.load('train_features.npy')\n",
        "\n",
        "# Завантаження ознак тестового набору\n",
        "test_features = np.load('test_features.npy')"
      ]
    },
    {
      "cell_type": "code",
      "execution_count": null,
      "id": "f8d9f52c-508e-41b9-9c09-95948609fdd8",
      "metadata": {
        "id": "f8d9f52c-508e-41b9-9c09-95948609fdd8",
        "outputId": "f4e7e398-618a-480b-ebae-374389a1b22b"
      },
      "outputs": [
        {
          "name": "stdout",
          "output_type": "stream",
          "text": [
            "Model: \"sequential_1\"\n",
            "_________________________________________________________________\n",
            " Layer (type)                Output Shape              Param #   \n",
            "=================================================================\n",
            " flatten (Flatten)           (None, 25088)             0         \n",
            "                                                                 \n",
            " dense (Dense)               (None, 256)               6422784   \n",
            "                                                                 \n",
            " dropout (Dropout)           (None, 256)               0         \n",
            "                                                                 \n",
            " dense_1 (Dense)             (None, 10)                2570      \n",
            "                                                                 \n",
            "=================================================================\n",
            "Total params: 6425354 (24.51 MB)\n",
            "Trainable params: 6425354 (24.51 MB)\n",
            "Non-trainable params: 0 (0.00 Byte)\n",
            "_________________________________________________________________\n",
            "Epoch 1/20\n",
            "WARNING:tensorflow:From C:\\Users\\d.paukov\\AppData\\Local\\anaconda3\\envs\\keras_tf\\lib\\site-packages\\keras\\src\\utils\\tf_utils.py:492: The name tf.ragged.RaggedTensorValue is deprecated. Please use tf.compat.v1.ragged.RaggedTensorValue instead.\n",
            "\n",
            "WARNING:tensorflow:From C:\\Users\\d.paukov\\AppData\\Local\\anaconda3\\envs\\keras_tf\\lib\\site-packages\\keras\\src\\engine\\base_layer_utils.py:384: The name tf.executing_eagerly_outside_functions is deprecated. Please use tf.compat.v1.executing_eagerly_outside_functions instead.\n",
            "\n",
            "188/188 [==============================] - 14s 69ms/step - loss: 0.8894 - accuracy: 0.8111 - val_loss: 0.3028 - val_accuracy: 0.8967\n",
            "Epoch 2/20\n",
            "188/188 [==============================] - 12s 66ms/step - loss: 0.3310 - accuracy: 0.8882 - val_loss: 0.2609 - val_accuracy: 0.9112\n",
            "Epoch 3/20\n",
            "188/188 [==============================] - 12s 66ms/step - loss: 0.2538 - accuracy: 0.9126 - val_loss: 0.2509 - val_accuracy: 0.9139\n",
            "Epoch 4/20\n",
            "188/188 [==============================] - 12s 66ms/step - loss: 0.2051 - accuracy: 0.9269 - val_loss: 0.2347 - val_accuracy: 0.9183\n",
            "Epoch 5/20\n",
            "188/188 [==============================] - 13s 67ms/step - loss: 0.1691 - accuracy: 0.9392 - val_loss: 0.2330 - val_accuracy: 0.9222\n",
            "Epoch 6/20\n",
            "188/188 [==============================] - 13s 67ms/step - loss: 0.1453 - accuracy: 0.9476 - val_loss: 0.2374 - val_accuracy: 0.9250\n",
            "Epoch 7/20\n",
            "188/188 [==============================] - 13s 67ms/step - loss: 0.1274 - accuracy: 0.9531 - val_loss: 0.2345 - val_accuracy: 0.9262\n",
            "Epoch 8/20\n",
            "188/188 [==============================] - 13s 68ms/step - loss: 0.1138 - accuracy: 0.9575 - val_loss: 0.2315 - val_accuracy: 0.9289\n",
            "Epoch 9/20\n",
            "188/188 [==============================] - 13s 68ms/step - loss: 0.1004 - accuracy: 0.9626 - val_loss: 0.2339 - val_accuracy: 0.9256\n",
            "Epoch 10/20\n",
            "188/188 [==============================] - 13s 70ms/step - loss: 0.0905 - accuracy: 0.9665 - val_loss: 0.2289 - val_accuracy: 0.9318\n",
            "Epoch 11/20\n",
            "188/188 [==============================] - 13s 70ms/step - loss: 0.0792 - accuracy: 0.9701 - val_loss: 0.2448 - val_accuracy: 0.9311\n",
            "Epoch 12/20\n",
            "188/188 [==============================] - 13s 68ms/step - loss: 0.0745 - accuracy: 0.9718 - val_loss: 0.2382 - val_accuracy: 0.9326\n",
            "Epoch 13/20\n",
            "188/188 [==============================] - 13s 70ms/step - loss: 0.0688 - accuracy: 0.9751 - val_loss: 0.2538 - val_accuracy: 0.9316\n",
            "Epoch 14/20\n",
            "188/188 [==============================] - 13s 71ms/step - loss: 0.0654 - accuracy: 0.9758 - val_loss: 0.2481 - val_accuracy: 0.9313\n",
            "Epoch 15/20\n",
            "188/188 [==============================] - 13s 70ms/step - loss: 0.0642 - accuracy: 0.9758 - val_loss: 0.2662 - val_accuracy: 0.9306\n",
            "Epoch 16/20\n",
            "188/188 [==============================] - 13s 70ms/step - loss: 0.0586 - accuracy: 0.9780 - val_loss: 0.2630 - val_accuracy: 0.9328\n",
            "Epoch 17/20\n",
            "188/188 [==============================] - 13s 69ms/step - loss: 0.0543 - accuracy: 0.9797 - val_loss: 0.2545 - val_accuracy: 0.9323\n",
            "Epoch 18/20\n",
            "188/188 [==============================] - 13s 68ms/step - loss: 0.0524 - accuracy: 0.9799 - val_loss: 0.2732 - val_accuracy: 0.9321\n",
            "Epoch 19/20\n",
            "188/188 [==============================] - 13s 69ms/step - loss: 0.0519 - accuracy: 0.9805 - val_loss: 0.2713 - val_accuracy: 0.9309\n",
            "Epoch 20/20\n",
            "188/188 [==============================] - 13s 68ms/step - loss: 0.0520 - accuracy: 0.9811 - val_loss: 0.2898 - val_accuracy: 0.9324\n"
          ]
        }
      ],
      "source": [
        "from tensorflow.keras.models import Sequential\n",
        "from tensorflow.keras.layers import Flatten, Dense, Dropout\n",
        "from tensorflow.keras.optimizers import Adam\n",
        "\n",
        "# Створення моделі для класифікації\n",
        "model = Sequential([\n",
        "    Flatten(input_shape=(7, 7, 512)),  # Вирівнювання ознак\n",
        "    Dense(256, activation='relu'),     # Повністю з'єднаний шар\n",
        "    Dropout(0.5),                      # Dropout для зменшення перенавчання\n",
        "    Dense(10, activation='softmax')    # Вихідний шар для 10 класів\n",
        "])\n",
        "\n",
        "# Компіляція моделі\n",
        "optimizer = Adam(learning_rate=0.0001)\n",
        "model.compile(optimizer=optimizer,\n",
        "              loss='sparse_categorical_crossentropy',\n",
        "              metrics=['accuracy'])\n",
        "\n",
        "# Виведення підсумку моделі\n",
        "model.summary()\n",
        "\n",
        "# Тренування моделі\n",
        "history = model.fit(train_features, train_full_y,\n",
        "                    validation_split=0.2,\n",
        "                    epochs=20,\n",
        "                    batch_size=256,\n",
        "                    verbose=1)"
      ]
    },
    {
      "cell_type": "code",
      "execution_count": null,
      "id": "c2669003-7b8f-4497-bc62-1f41adb86299",
      "metadata": {
        "id": "c2669003-7b8f-4497-bc62-1f41adb86299",
        "outputId": "d7cc8918-71b2-4592-b87e-8620e5e12c5b"
      },
      "outputs": [
        {
          "name": "stdout",
          "output_type": "stream",
          "text": [
            "313/313 - 1s - loss: 0.3198 - accuracy: 0.9271 - 1s/epoch - 3ms/step\n",
            "\n",
            "Точність на тестовому наборі: 0.9271000027656555\n"
          ]
        }
      ],
      "source": [
        "# Оцінка моделі на тестовому наборі\n",
        "test_loss, test_accuracy = model.evaluate(test_features, test_y, verbose=2)\n",
        "print('\\nТочність на тестовому наборі:', test_accuracy)"
      ]
    },
    {
      "cell_type": "markdown",
      "source": [
        "## Висновки по частині 2\n",
        "\n",
        "Згорткова нейромережа, що використовує VGG16 в якості згорткової основи показала кращі результати порівняно з багатошаровою мережею з першого завдання. Точність скалала 92,7% проти 91,49%.\n",
        "\n",
        "Параметри, використані для отримання результатів:\n",
        "\n",
        "1. Архітектура моделі: Використання згорткової нейромережі VGG16 як базової моделі з виключенням верхніх шарів.\n",
        "2. Замороження ваг: Шари VGG16 були заморожені, щоб уникнути їх оновлення під час тренування.\n",
        "3. Попередня обробка даних: вхідні дані були оброблені функцією preprocess_input з пакету tensorflow.keras.applications.vgg16.\n",
        "4. Розмір зображень: зображення були змінені до розміру 224x224 за допомогою шару Resizing (хоча було достатньо 32*32, швидкість роботи моделі значно знизилась, але результат був отриманий кращий).\n",
        "5. Параметри компіляції моделі: були використані оптимізатор Adam з коефіцієнтом навчання 0.0001, функція втрат 'sparse_categorical_crossentropy', метрика точності.\n",
        "6. Параметри тренування: тренування проводилося протягом 20 епох з розміром пакету 256 та розділеним навчальним набором на 80% навчання та 20% валідації."
      ],
      "metadata": {
        "id": "tGJftOoaSL2G"
      },
      "id": "tGJftOoaSL2G"
    }
  ],
  "metadata": {
    "kernelspec": {
      "display_name": "Python 3 (ipykernel)",
      "language": "python",
      "name": "python3"
    },
    "language_info": {
      "codemirror_mode": {
        "name": "ipython",
        "version": 3
      },
      "file_extension": ".py",
      "mimetype": "text/x-python",
      "name": "python",
      "nbconvert_exporter": "python",
      "pygments_lexer": "ipython3",
      "version": "3.10.13"
    },
    "colab": {
      "provenance": []
    }
  },
  "nbformat": 4,
  "nbformat_minor": 5
}